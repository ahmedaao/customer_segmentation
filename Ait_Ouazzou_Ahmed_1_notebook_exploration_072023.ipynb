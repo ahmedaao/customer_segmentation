{
 "cells": [
  {
   "cell_type": "markdown",
   "metadata": {
    "id": "zkevlcGlZCLk"
   },
   "source": [
    "Plus de détails sur ce projet sont à retrouver ici : https://www.kaggle.com/datasets/olistbr/brazilian-ecommerce"
   ]
  },
  {
   "cell_type": "markdown",
   "metadata": {
    "id": "rnKSKx-qFyJu"
   },
   "source": [
    "# Connexion entre le drive et le notebook"
   ]
  },
  {
   "cell_type": "markdown",
   "metadata": {
    "id": "YF-yolfVGEKa"
   },
   "source": [
    "# Source des données"
   ]
  },
  {
   "cell_type": "code",
   "execution_count": 1,
   "metadata": {
    "id": "yUWLielGLiZF"
   },
   "outputs": [],
   "source": [
    "# Chemin vers le dossier contenant les fichiers CSV sur Google Drive\n",
    "folder_path = \"/home/hao/Desktop/repos/customer_segmentation/data/source/\""
   ]
  },
  {
   "cell_type": "markdown",
   "metadata": {
    "id": "XQILtNh7IUd9"
   },
   "source": [
    "# Importation des bibliothèques Python"
   ]
  },
  {
   "cell_type": "code",
   "execution_count": 2,
   "metadata": {
    "id": "usko3hs4IDyV"
   },
   "outputs": [],
   "source": [
    "# numpy et pandas pour la manipulation de données\n",
    "import pandas as pd\n",
    "import numpy as np\n",
    "import os\n",
    "\n",
    "# counter and time\n",
    "from collections import Counter\n",
    "import time\n",
    "\n",
    "# sklearn preprocessing for dealing with categorical variables\n",
    "from sklearn.preprocessing import LabelEncoder\n",
    "\n",
    "# matplotlib et saeborn pour la visualisation\n",
    "import matplotlib.pyplot as plt\n",
    "import seaborn as sns\n",
    "import plotly.express as px"
   ]
  },
  {
   "cell_type": "markdown",
   "metadata": {
    "id": "4EJvGsa8In8z"
   },
   "source": [
    "# Importation des données"
   ]
  },
  {
   "cell_type": "code",
   "execution_count": 4,
   "metadata": {},
   "outputs": [],
   "source": [
    "dataframes = {}  # Dictionnaire pour stocker les DataFrames\n",
    "\n",
    "# Parcours des fichiers CSV dans le dossier spécifié\n",
    "for file_name in os.listdir(folder_path):\n",
    "    if file_name.endswith(\".csv\"):\n",
    "        csv_path = os.path.join(folder_path, file_name)\n",
    "        df_name = file_name.split(\".\")[0].lower()\n",
    "        dataframes[df_name] = pd.read_csv(csv_path)\n",
    "\n",
    "# Séparation des dataframes\n",
    "customers = dataframes['olist_customers_dataset']\n",
    "geolocation = dataframes['olist_geolocation_dataset']\n",
    "order_payments = dataframes['olist_order_payments_dataset']\n",
    "order_items = dataframes['olist_order_items_dataset']\n",
    "order_reviews = dataframes['olist_order_reviews_dataset']\n",
    "orders = dataframes['olist_orders_dataset']\n",
    "products = dataframes['olist_products_dataset']\n",
    "sellers = dataframes['olist_sellers_dataset']\n",
    "category_name = dataframes['product_category_name_translation']"
   ]
  },
  {
   "cell_type": "markdown",
   "metadata": {
    "id": "AEmvfwUQBoY3"
   },
   "source": [
    "# Fusion des datasets"
   ]
  },
  {
   "cell_type": "markdown",
   "metadata": {
    "id": "ycJULe71UwyQ"
   },
   "source": [
    "Dans un premier temps, nous allons merger nos différents datasets pour ne former d'un seul dataset englobant la totalité de nos variables utiles pour réaliser notre étude."
   ]
  },
  {
   "cell_type": "markdown",
   "metadata": {
    "id": "T6CRkuFiaKtM"
   },
   "source": [
    "## Fusion des tables customers et orders"
   ]
  },
  {
   "cell_type": "code",
   "execution_count": 5,
   "metadata": {
    "colab": {
     "base_uri": "https://localhost:8080/",
     "height": 288
    },
    "id": "w5WLZQl6So5x",
    "outputId": "bea502d5-fee4-4753-eb26-7a7d901e326a"
   },
   "outputs": [
    {
     "data": {
      "text/html": [
       "<div>\n",
       "<style scoped>\n",
       "    .dataframe tbody tr th:only-of-type {\n",
       "        vertical-align: middle;\n",
       "    }\n",
       "\n",
       "    .dataframe tbody tr th {\n",
       "        vertical-align: top;\n",
       "    }\n",
       "\n",
       "    .dataframe thead th {\n",
       "        text-align: right;\n",
       "    }\n",
       "</style>\n",
       "<table border=\"1\" class=\"dataframe\">\n",
       "  <thead>\n",
       "    <tr style=\"text-align: right;\">\n",
       "      <th></th>\n",
       "      <th>customer_id</th>\n",
       "      <th>customer_unique_id</th>\n",
       "      <th>customer_zip_code_prefix</th>\n",
       "      <th>customer_city</th>\n",
       "      <th>customer_state</th>\n",
       "      <th>order_id</th>\n",
       "      <th>order_status</th>\n",
       "      <th>order_purchase_timestamp</th>\n",
       "      <th>order_approved_at</th>\n",
       "      <th>order_delivered_carrier_date</th>\n",
       "      <th>order_delivered_customer_date</th>\n",
       "      <th>order_estimated_delivery_date</th>\n",
       "    </tr>\n",
       "  </thead>\n",
       "  <tbody>\n",
       "    <tr>\n",
       "      <th>0</th>\n",
       "      <td>06b8999e2fba1a1fbc88172c00ba8bc7</td>\n",
       "      <td>861eff4711a542e4b93843c6dd7febb0</td>\n",
       "      <td>14409</td>\n",
       "      <td>franca</td>\n",
       "      <td>SP</td>\n",
       "      <td>00e7ee1b050b8499577073aeb2a297a1</td>\n",
       "      <td>delivered</td>\n",
       "      <td>2017-05-16 15:05:35</td>\n",
       "      <td>2017-05-16 15:22:12</td>\n",
       "      <td>2017-05-23 10:47:57</td>\n",
       "      <td>2017-05-25 10:35:35</td>\n",
       "      <td>2017-06-05 00:00:00</td>\n",
       "    </tr>\n",
       "    <tr>\n",
       "      <th>1</th>\n",
       "      <td>18955e83d337fd6b2def6b18a428ac77</td>\n",
       "      <td>290c77bc529b7ac935b93aa66c333dc3</td>\n",
       "      <td>9790</td>\n",
       "      <td>sao bernardo do campo</td>\n",
       "      <td>SP</td>\n",
       "      <td>29150127e6685892b6eab3eec79f59c7</td>\n",
       "      <td>delivered</td>\n",
       "      <td>2018-01-12 20:48:24</td>\n",
       "      <td>2018-01-12 20:58:32</td>\n",
       "      <td>2018-01-15 17:14:59</td>\n",
       "      <td>2018-01-29 12:41:19</td>\n",
       "      <td>2018-02-06 00:00:00</td>\n",
       "    </tr>\n",
       "    <tr>\n",
       "      <th>2</th>\n",
       "      <td>4e7b3e00288586ebd08712fdd0374a03</td>\n",
       "      <td>060e732b5b29e8181a18229c7b0b2b5e</td>\n",
       "      <td>1151</td>\n",
       "      <td>sao paulo</td>\n",
       "      <td>SP</td>\n",
       "      <td>b2059ed67ce144a36e2aa97d2c9e9ad2</td>\n",
       "      <td>delivered</td>\n",
       "      <td>2018-05-19 16:07:45</td>\n",
       "      <td>2018-05-20 16:19:10</td>\n",
       "      <td>2018-06-11 14:31:00</td>\n",
       "      <td>2018-06-14 17:58:51</td>\n",
       "      <td>2018-06-13 00:00:00</td>\n",
       "    </tr>\n",
       "    <tr>\n",
       "      <th>3</th>\n",
       "      <td>b2b6027bc5c5109e529d4dc6358b12c3</td>\n",
       "      <td>259dac757896d24d7702b9acbbff3f3c</td>\n",
       "      <td>8775</td>\n",
       "      <td>mogi das cruzes</td>\n",
       "      <td>SP</td>\n",
       "      <td>951670f92359f4fe4a63112aa7306eba</td>\n",
       "      <td>delivered</td>\n",
       "      <td>2018-03-13 16:06:38</td>\n",
       "      <td>2018-03-13 17:29:19</td>\n",
       "      <td>2018-03-27 23:22:42</td>\n",
       "      <td>2018-03-28 16:04:25</td>\n",
       "      <td>2018-04-10 00:00:00</td>\n",
       "    </tr>\n",
       "    <tr>\n",
       "      <th>4</th>\n",
       "      <td>4f2d8ab171c80ec8364f7c12e35b23ad</td>\n",
       "      <td>345ecd01c38d18a9036ed96c73b8d066</td>\n",
       "      <td>13056</td>\n",
       "      <td>campinas</td>\n",
       "      <td>SP</td>\n",
       "      <td>6b7d50bd145f6fc7f33cebabd7e49d0f</td>\n",
       "      <td>delivered</td>\n",
       "      <td>2018-07-29 09:51:30</td>\n",
       "      <td>2018-07-29 10:10:09</td>\n",
       "      <td>2018-07-30 15:16:00</td>\n",
       "      <td>2018-08-09 20:55:48</td>\n",
       "      <td>2018-08-15 00:00:00</td>\n",
       "    </tr>\n",
       "  </tbody>\n",
       "</table>\n",
       "</div>"
      ],
      "text/plain": [
       "                        customer_id                customer_unique_id  \\\n",
       "0  06b8999e2fba1a1fbc88172c00ba8bc7  861eff4711a542e4b93843c6dd7febb0   \n",
       "1  18955e83d337fd6b2def6b18a428ac77  290c77bc529b7ac935b93aa66c333dc3   \n",
       "2  4e7b3e00288586ebd08712fdd0374a03  060e732b5b29e8181a18229c7b0b2b5e   \n",
       "3  b2b6027bc5c5109e529d4dc6358b12c3  259dac757896d24d7702b9acbbff3f3c   \n",
       "4  4f2d8ab171c80ec8364f7c12e35b23ad  345ecd01c38d18a9036ed96c73b8d066   \n",
       "\n",
       "   customer_zip_code_prefix          customer_city customer_state  \\\n",
       "0                     14409                 franca             SP   \n",
       "1                      9790  sao bernardo do campo             SP   \n",
       "2                      1151              sao paulo             SP   \n",
       "3                      8775        mogi das cruzes             SP   \n",
       "4                     13056               campinas             SP   \n",
       "\n",
       "                           order_id order_status order_purchase_timestamp  \\\n",
       "0  00e7ee1b050b8499577073aeb2a297a1    delivered      2017-05-16 15:05:35   \n",
       "1  29150127e6685892b6eab3eec79f59c7    delivered      2018-01-12 20:48:24   \n",
       "2  b2059ed67ce144a36e2aa97d2c9e9ad2    delivered      2018-05-19 16:07:45   \n",
       "3  951670f92359f4fe4a63112aa7306eba    delivered      2018-03-13 16:06:38   \n",
       "4  6b7d50bd145f6fc7f33cebabd7e49d0f    delivered      2018-07-29 09:51:30   \n",
       "\n",
       "     order_approved_at order_delivered_carrier_date  \\\n",
       "0  2017-05-16 15:22:12          2017-05-23 10:47:57   \n",
       "1  2018-01-12 20:58:32          2018-01-15 17:14:59   \n",
       "2  2018-05-20 16:19:10          2018-06-11 14:31:00   \n",
       "3  2018-03-13 17:29:19          2018-03-27 23:22:42   \n",
       "4  2018-07-29 10:10:09          2018-07-30 15:16:00   \n",
       "\n",
       "  order_delivered_customer_date order_estimated_delivery_date  \n",
       "0           2017-05-25 10:35:35           2017-06-05 00:00:00  \n",
       "1           2018-01-29 12:41:19           2018-02-06 00:00:00  \n",
       "2           2018-06-14 17:58:51           2018-06-13 00:00:00  \n",
       "3           2018-03-28 16:04:25           2018-04-10 00:00:00  \n",
       "4           2018-08-09 20:55:48           2018-08-15 00:00:00  "
      ]
     },
     "execution_count": 5,
     "metadata": {},
     "output_type": "execute_result"
    }
   ],
   "source": [
    "# Merge DataFrames based on the 'customer_id' column\n",
    "merge_1 = pd.merge(customers, orders, on='customer_id')\n",
    "merge_1.head()"
   ]
  },
  {
   "cell_type": "markdown",
   "metadata": {
    "id": "QfJqxHDqFeBJ"
   },
   "source": [
    "Cette première fusion nous permettra de construire la colonne R = Recency grâce à la colonne 'order_purchase_timestamp'"
   ]
  },
  {
   "cell_type": "markdown",
   "metadata": {
    "id": "rSWCMQsY7xNA"
   },
   "source": [
    "## Ajout de la table order_items"
   ]
  },
  {
   "cell_type": "markdown",
   "metadata": {
    "id": "NDyE7eFT75-F"
   },
   "source": [
    "La table order_items resume les commandes (orders) produits par produits (items).\n",
    "Ainsi, il y a des doublons dans la colonne order_id car une même commande peut être composée de plusieurs produits (items).\n",
    "Chaque ligne de notre table représente donc un produit (item).\n",
    "\n",
    "Dans un premier temps, nous allons regrouper les éléments de la colonne order_id pour disposer de commande unique."
   ]
  },
  {
   "cell_type": "code",
   "execution_count": 6,
   "metadata": {
    "colab": {
     "base_uri": "https://localhost:8080/",
     "height": 288
    },
    "id": "rbM8rMCS-tk4",
    "outputId": "4c4b502f-509f-46c3-ed04-63707ca4c37f"
   },
   "outputs": [
    {
     "data": {
      "text/html": [
       "<div>\n",
       "<style scoped>\n",
       "    .dataframe tbody tr th:only-of-type {\n",
       "        vertical-align: middle;\n",
       "    }\n",
       "\n",
       "    .dataframe tbody tr th {\n",
       "        vertical-align: top;\n",
       "    }\n",
       "\n",
       "    .dataframe thead th {\n",
       "        text-align: right;\n",
       "    }\n",
       "</style>\n",
       "<table border=\"1\" class=\"dataframe\">\n",
       "  <thead>\n",
       "    <tr style=\"text-align: right;\">\n",
       "      <th></th>\n",
       "      <th>customer_id</th>\n",
       "      <th>customer_unique_id</th>\n",
       "      <th>customer_zip_code_prefix</th>\n",
       "      <th>customer_city</th>\n",
       "      <th>customer_state</th>\n",
       "      <th>order_id</th>\n",
       "      <th>order_status</th>\n",
       "      <th>order_purchase_timestamp</th>\n",
       "      <th>order_approved_at</th>\n",
       "      <th>order_delivered_carrier_date</th>\n",
       "      <th>order_delivered_customer_date</th>\n",
       "      <th>order_estimated_delivery_date</th>\n",
       "      <th>price</th>\n",
       "      <th>freight_value</th>\n",
       "    </tr>\n",
       "  </thead>\n",
       "  <tbody>\n",
       "    <tr>\n",
       "      <th>0</th>\n",
       "      <td>06b8999e2fba1a1fbc88172c00ba8bc7</td>\n",
       "      <td>861eff4711a542e4b93843c6dd7febb0</td>\n",
       "      <td>14409</td>\n",
       "      <td>franca</td>\n",
       "      <td>SP</td>\n",
       "      <td>00e7ee1b050b8499577073aeb2a297a1</td>\n",
       "      <td>delivered</td>\n",
       "      <td>2017-05-16 15:05:35</td>\n",
       "      <td>2017-05-16 15:22:12</td>\n",
       "      <td>2017-05-23 10:47:57</td>\n",
       "      <td>2017-05-25 10:35:35</td>\n",
       "      <td>2017-06-05 00:00:00</td>\n",
       "      <td>124.99</td>\n",
       "      <td>21.88</td>\n",
       "    </tr>\n",
       "    <tr>\n",
       "      <th>1</th>\n",
       "      <td>18955e83d337fd6b2def6b18a428ac77</td>\n",
       "      <td>290c77bc529b7ac935b93aa66c333dc3</td>\n",
       "      <td>9790</td>\n",
       "      <td>sao bernardo do campo</td>\n",
       "      <td>SP</td>\n",
       "      <td>29150127e6685892b6eab3eec79f59c7</td>\n",
       "      <td>delivered</td>\n",
       "      <td>2018-01-12 20:48:24</td>\n",
       "      <td>2018-01-12 20:58:32</td>\n",
       "      <td>2018-01-15 17:14:59</td>\n",
       "      <td>2018-01-29 12:41:19</td>\n",
       "      <td>2018-02-06 00:00:00</td>\n",
       "      <td>289.00</td>\n",
       "      <td>46.48</td>\n",
       "    </tr>\n",
       "    <tr>\n",
       "      <th>2</th>\n",
       "      <td>4e7b3e00288586ebd08712fdd0374a03</td>\n",
       "      <td>060e732b5b29e8181a18229c7b0b2b5e</td>\n",
       "      <td>1151</td>\n",
       "      <td>sao paulo</td>\n",
       "      <td>SP</td>\n",
       "      <td>b2059ed67ce144a36e2aa97d2c9e9ad2</td>\n",
       "      <td>delivered</td>\n",
       "      <td>2018-05-19 16:07:45</td>\n",
       "      <td>2018-05-20 16:19:10</td>\n",
       "      <td>2018-06-11 14:31:00</td>\n",
       "      <td>2018-06-14 17:58:51</td>\n",
       "      <td>2018-06-13 00:00:00</td>\n",
       "      <td>139.94</td>\n",
       "      <td>17.79</td>\n",
       "    </tr>\n",
       "    <tr>\n",
       "      <th>3</th>\n",
       "      <td>b2b6027bc5c5109e529d4dc6358b12c3</td>\n",
       "      <td>259dac757896d24d7702b9acbbff3f3c</td>\n",
       "      <td>8775</td>\n",
       "      <td>mogi das cruzes</td>\n",
       "      <td>SP</td>\n",
       "      <td>951670f92359f4fe4a63112aa7306eba</td>\n",
       "      <td>delivered</td>\n",
       "      <td>2018-03-13 16:06:38</td>\n",
       "      <td>2018-03-13 17:29:19</td>\n",
       "      <td>2018-03-27 23:22:42</td>\n",
       "      <td>2018-03-28 16:04:25</td>\n",
       "      <td>2018-04-10 00:00:00</td>\n",
       "      <td>149.94</td>\n",
       "      <td>23.36</td>\n",
       "    </tr>\n",
       "    <tr>\n",
       "      <th>4</th>\n",
       "      <td>4f2d8ab171c80ec8364f7c12e35b23ad</td>\n",
       "      <td>345ecd01c38d18a9036ed96c73b8d066</td>\n",
       "      <td>13056</td>\n",
       "      <td>campinas</td>\n",
       "      <td>SP</td>\n",
       "      <td>6b7d50bd145f6fc7f33cebabd7e49d0f</td>\n",
       "      <td>delivered</td>\n",
       "      <td>2018-07-29 09:51:30</td>\n",
       "      <td>2018-07-29 10:10:09</td>\n",
       "      <td>2018-07-30 15:16:00</td>\n",
       "      <td>2018-08-09 20:55:48</td>\n",
       "      <td>2018-08-15 00:00:00</td>\n",
       "      <td>230.00</td>\n",
       "      <td>22.25</td>\n",
       "    </tr>\n",
       "  </tbody>\n",
       "</table>\n",
       "</div>"
      ],
      "text/plain": [
       "                        customer_id                customer_unique_id  \\\n",
       "0  06b8999e2fba1a1fbc88172c00ba8bc7  861eff4711a542e4b93843c6dd7febb0   \n",
       "1  18955e83d337fd6b2def6b18a428ac77  290c77bc529b7ac935b93aa66c333dc3   \n",
       "2  4e7b3e00288586ebd08712fdd0374a03  060e732b5b29e8181a18229c7b0b2b5e   \n",
       "3  b2b6027bc5c5109e529d4dc6358b12c3  259dac757896d24d7702b9acbbff3f3c   \n",
       "4  4f2d8ab171c80ec8364f7c12e35b23ad  345ecd01c38d18a9036ed96c73b8d066   \n",
       "\n",
       "   customer_zip_code_prefix          customer_city customer_state  \\\n",
       "0                     14409                 franca             SP   \n",
       "1                      9790  sao bernardo do campo             SP   \n",
       "2                      1151              sao paulo             SP   \n",
       "3                      8775        mogi das cruzes             SP   \n",
       "4                     13056               campinas             SP   \n",
       "\n",
       "                           order_id order_status order_purchase_timestamp  \\\n",
       "0  00e7ee1b050b8499577073aeb2a297a1    delivered      2017-05-16 15:05:35   \n",
       "1  29150127e6685892b6eab3eec79f59c7    delivered      2018-01-12 20:48:24   \n",
       "2  b2059ed67ce144a36e2aa97d2c9e9ad2    delivered      2018-05-19 16:07:45   \n",
       "3  951670f92359f4fe4a63112aa7306eba    delivered      2018-03-13 16:06:38   \n",
       "4  6b7d50bd145f6fc7f33cebabd7e49d0f    delivered      2018-07-29 09:51:30   \n",
       "\n",
       "     order_approved_at order_delivered_carrier_date  \\\n",
       "0  2017-05-16 15:22:12          2017-05-23 10:47:57   \n",
       "1  2018-01-12 20:58:32          2018-01-15 17:14:59   \n",
       "2  2018-05-20 16:19:10          2018-06-11 14:31:00   \n",
       "3  2018-03-13 17:29:19          2018-03-27 23:22:42   \n",
       "4  2018-07-29 10:10:09          2018-07-30 15:16:00   \n",
       "\n",
       "  order_delivered_customer_date order_estimated_delivery_date   price  \\\n",
       "0           2017-05-25 10:35:35           2017-06-05 00:00:00  124.99   \n",
       "1           2018-01-29 12:41:19           2018-02-06 00:00:00  289.00   \n",
       "2           2018-06-14 17:58:51           2018-06-13 00:00:00  139.94   \n",
       "3           2018-03-28 16:04:25           2018-04-10 00:00:00  149.94   \n",
       "4           2018-08-09 20:55:48           2018-08-15 00:00:00  230.00   \n",
       "\n",
       "   freight_value  \n",
       "0          21.88  \n",
       "1          46.48  \n",
       "2          17.79  \n",
       "3          23.36  \n",
       "4          22.25  "
      ]
     },
     "execution_count": 6,
     "metadata": {},
     "output_type": "execute_result"
    }
   ],
   "source": [
    "# Group by sum\n",
    "order_items_groupby = order_items.groupby('order_id').agg({'price': 'sum', 'freight_value': 'sum'}).reset_index()\n",
    "#order_items_groupby\n",
    "\n",
    "# Merge DataFrames based on the 'order_id' column. Plus, we keep NAN values for now.\n",
    "merge_2 = merge_1.merge(order_items_groupby, on='order_id', how='outer')\n",
    "merge_2.head()"
   ]
  },
  {
   "cell_type": "markdown",
   "metadata": {
    "id": "2pq9nJvGF4lB"
   },
   "source": [
    "Cette fusion nous permettra de calculer la valeur M = Monetary Value grâce à la somme des colonnes 'price' + 'freight_value'.\n",
    "\n",
    "De plus nous pouvons aussi dénombrer le nombre de commande réalisé par client. C'est-à-dire, F = Frequency"
   ]
  },
  {
   "cell_type": "markdown",
   "metadata": {
    "id": "dzX-zs0CGKB0"
   },
   "source": [
    "## Ajout de la table order_reviews"
   ]
  },
  {
   "cell_type": "code",
   "execution_count": 7,
   "metadata": {
    "colab": {
     "base_uri": "https://localhost:8080/",
     "height": 288
    },
    "id": "LXl6oWC8E1cN",
    "outputId": "e7a7062b-203c-47b3-a4ed-504bdb3306d2"
   },
   "outputs": [
    {
     "data": {
      "text/html": [
       "<div>\n",
       "<style scoped>\n",
       "    .dataframe tbody tr th:only-of-type {\n",
       "        vertical-align: middle;\n",
       "    }\n",
       "\n",
       "    .dataframe tbody tr th {\n",
       "        vertical-align: top;\n",
       "    }\n",
       "\n",
       "    .dataframe thead th {\n",
       "        text-align: right;\n",
       "    }\n",
       "</style>\n",
       "<table border=\"1\" class=\"dataframe\">\n",
       "  <thead>\n",
       "    <tr style=\"text-align: right;\">\n",
       "      <th></th>\n",
       "      <th>customer_id</th>\n",
       "      <th>customer_unique_id</th>\n",
       "      <th>customer_zip_code_prefix</th>\n",
       "      <th>customer_city</th>\n",
       "      <th>customer_state</th>\n",
       "      <th>order_id</th>\n",
       "      <th>order_status</th>\n",
       "      <th>order_purchase_timestamp</th>\n",
       "      <th>order_approved_at</th>\n",
       "      <th>order_delivered_carrier_date</th>\n",
       "      <th>order_delivered_customer_date</th>\n",
       "      <th>order_estimated_delivery_date</th>\n",
       "      <th>price</th>\n",
       "      <th>freight_value</th>\n",
       "      <th>review_score</th>\n",
       "    </tr>\n",
       "  </thead>\n",
       "  <tbody>\n",
       "    <tr>\n",
       "      <th>0</th>\n",
       "      <td>06b8999e2fba1a1fbc88172c00ba8bc7</td>\n",
       "      <td>861eff4711a542e4b93843c6dd7febb0</td>\n",
       "      <td>14409</td>\n",
       "      <td>franca</td>\n",
       "      <td>SP</td>\n",
       "      <td>00e7ee1b050b8499577073aeb2a297a1</td>\n",
       "      <td>delivered</td>\n",
       "      <td>2017-05-16 15:05:35</td>\n",
       "      <td>2017-05-16 15:22:12</td>\n",
       "      <td>2017-05-23 10:47:57</td>\n",
       "      <td>2017-05-25 10:35:35</td>\n",
       "      <td>2017-06-05 00:00:00</td>\n",
       "      <td>124.99</td>\n",
       "      <td>21.88</td>\n",
       "      <td>4.0</td>\n",
       "    </tr>\n",
       "    <tr>\n",
       "      <th>1</th>\n",
       "      <td>18955e83d337fd6b2def6b18a428ac77</td>\n",
       "      <td>290c77bc529b7ac935b93aa66c333dc3</td>\n",
       "      <td>9790</td>\n",
       "      <td>sao bernardo do campo</td>\n",
       "      <td>SP</td>\n",
       "      <td>29150127e6685892b6eab3eec79f59c7</td>\n",
       "      <td>delivered</td>\n",
       "      <td>2018-01-12 20:48:24</td>\n",
       "      <td>2018-01-12 20:58:32</td>\n",
       "      <td>2018-01-15 17:14:59</td>\n",
       "      <td>2018-01-29 12:41:19</td>\n",
       "      <td>2018-02-06 00:00:00</td>\n",
       "      <td>289.00</td>\n",
       "      <td>46.48</td>\n",
       "      <td>5.0</td>\n",
       "    </tr>\n",
       "    <tr>\n",
       "      <th>2</th>\n",
       "      <td>4e7b3e00288586ebd08712fdd0374a03</td>\n",
       "      <td>060e732b5b29e8181a18229c7b0b2b5e</td>\n",
       "      <td>1151</td>\n",
       "      <td>sao paulo</td>\n",
       "      <td>SP</td>\n",
       "      <td>b2059ed67ce144a36e2aa97d2c9e9ad2</td>\n",
       "      <td>delivered</td>\n",
       "      <td>2018-05-19 16:07:45</td>\n",
       "      <td>2018-05-20 16:19:10</td>\n",
       "      <td>2018-06-11 14:31:00</td>\n",
       "      <td>2018-06-14 17:58:51</td>\n",
       "      <td>2018-06-13 00:00:00</td>\n",
       "      <td>139.94</td>\n",
       "      <td>17.79</td>\n",
       "      <td>5.0</td>\n",
       "    </tr>\n",
       "    <tr>\n",
       "      <th>3</th>\n",
       "      <td>b2b6027bc5c5109e529d4dc6358b12c3</td>\n",
       "      <td>259dac757896d24d7702b9acbbff3f3c</td>\n",
       "      <td>8775</td>\n",
       "      <td>mogi das cruzes</td>\n",
       "      <td>SP</td>\n",
       "      <td>951670f92359f4fe4a63112aa7306eba</td>\n",
       "      <td>delivered</td>\n",
       "      <td>2018-03-13 16:06:38</td>\n",
       "      <td>2018-03-13 17:29:19</td>\n",
       "      <td>2018-03-27 23:22:42</td>\n",
       "      <td>2018-03-28 16:04:25</td>\n",
       "      <td>2018-04-10 00:00:00</td>\n",
       "      <td>149.94</td>\n",
       "      <td>23.36</td>\n",
       "      <td>5.0</td>\n",
       "    </tr>\n",
       "    <tr>\n",
       "      <th>4</th>\n",
       "      <td>4f2d8ab171c80ec8364f7c12e35b23ad</td>\n",
       "      <td>345ecd01c38d18a9036ed96c73b8d066</td>\n",
       "      <td>13056</td>\n",
       "      <td>campinas</td>\n",
       "      <td>SP</td>\n",
       "      <td>6b7d50bd145f6fc7f33cebabd7e49d0f</td>\n",
       "      <td>delivered</td>\n",
       "      <td>2018-07-29 09:51:30</td>\n",
       "      <td>2018-07-29 10:10:09</td>\n",
       "      <td>2018-07-30 15:16:00</td>\n",
       "      <td>2018-08-09 20:55:48</td>\n",
       "      <td>2018-08-15 00:00:00</td>\n",
       "      <td>230.00</td>\n",
       "      <td>22.25</td>\n",
       "      <td>5.0</td>\n",
       "    </tr>\n",
       "  </tbody>\n",
       "</table>\n",
       "</div>"
      ],
      "text/plain": [
       "                        customer_id                customer_unique_id  \\\n",
       "0  06b8999e2fba1a1fbc88172c00ba8bc7  861eff4711a542e4b93843c6dd7febb0   \n",
       "1  18955e83d337fd6b2def6b18a428ac77  290c77bc529b7ac935b93aa66c333dc3   \n",
       "2  4e7b3e00288586ebd08712fdd0374a03  060e732b5b29e8181a18229c7b0b2b5e   \n",
       "3  b2b6027bc5c5109e529d4dc6358b12c3  259dac757896d24d7702b9acbbff3f3c   \n",
       "4  4f2d8ab171c80ec8364f7c12e35b23ad  345ecd01c38d18a9036ed96c73b8d066   \n",
       "\n",
       "   customer_zip_code_prefix          customer_city customer_state  \\\n",
       "0                     14409                 franca             SP   \n",
       "1                      9790  sao bernardo do campo             SP   \n",
       "2                      1151              sao paulo             SP   \n",
       "3                      8775        mogi das cruzes             SP   \n",
       "4                     13056               campinas             SP   \n",
       "\n",
       "                           order_id order_status order_purchase_timestamp  \\\n",
       "0  00e7ee1b050b8499577073aeb2a297a1    delivered      2017-05-16 15:05:35   \n",
       "1  29150127e6685892b6eab3eec79f59c7    delivered      2018-01-12 20:48:24   \n",
       "2  b2059ed67ce144a36e2aa97d2c9e9ad2    delivered      2018-05-19 16:07:45   \n",
       "3  951670f92359f4fe4a63112aa7306eba    delivered      2018-03-13 16:06:38   \n",
       "4  6b7d50bd145f6fc7f33cebabd7e49d0f    delivered      2018-07-29 09:51:30   \n",
       "\n",
       "     order_approved_at order_delivered_carrier_date  \\\n",
       "0  2017-05-16 15:22:12          2017-05-23 10:47:57   \n",
       "1  2018-01-12 20:58:32          2018-01-15 17:14:59   \n",
       "2  2018-05-20 16:19:10          2018-06-11 14:31:00   \n",
       "3  2018-03-13 17:29:19          2018-03-27 23:22:42   \n",
       "4  2018-07-29 10:10:09          2018-07-30 15:16:00   \n",
       "\n",
       "  order_delivered_customer_date order_estimated_delivery_date   price  \\\n",
       "0           2017-05-25 10:35:35           2017-06-05 00:00:00  124.99   \n",
       "1           2018-01-29 12:41:19           2018-02-06 00:00:00  289.00   \n",
       "2           2018-06-14 17:58:51           2018-06-13 00:00:00  139.94   \n",
       "3           2018-03-28 16:04:25           2018-04-10 00:00:00  149.94   \n",
       "4           2018-08-09 20:55:48           2018-08-15 00:00:00  230.00   \n",
       "\n",
       "   freight_value  review_score  \n",
       "0          21.88           4.0  \n",
       "1          46.48           5.0  \n",
       "2          17.79           5.0  \n",
       "3          23.36           5.0  \n",
       "4          22.25           5.0  "
      ]
     },
     "execution_count": 7,
     "metadata": {},
     "output_type": "execute_result"
    }
   ],
   "source": [
    "# Group by mean\n",
    "order_reviews_groupby = order_reviews.groupby('order_id')['review_score'].mean().reset_index()\n",
    "#order_reviews_groupby\n",
    "\n",
    "# Merge DataFrames based on the 'order_id' column. Plus, we keep NAN values for now.\n",
    "merge_3 = merge_2.merge(order_reviews_groupby, on='order_id', how='outer')\n",
    "merge_3.head()"
   ]
  },
  {
   "cell_type": "markdown",
   "metadata": {
    "id": "Bda_d2Q6JZJr"
   },
   "source": [
    "Cette fusion nous permettra d'ajouter une variable non prise en compte dans le modèle RFM. C'est-à-dire, la colonne review_score qui me semble très intéressante pour la ségmentation des clients. En effet, la notedonnée à une commande nous indiquera la satisfaction client qui est la priorité absolue pour la rétention d'un client sur le long terme.  "
   ]
  },
  {
   "cell_type": "markdown",
   "metadata": {
    "id": "37kWeD89nxL0"
   },
   "source": [
    "## Ajout de la table order_payments"
   ]
  },
  {
   "cell_type": "code",
   "execution_count": 8,
   "metadata": {
    "colab": {
     "base_uri": "https://localhost:8080/",
     "height": 288
    },
    "id": "1RhHAKXBn1ot",
    "outputId": "76e25e12-e61f-40e3-cddd-d1ccc4a9d7a6"
   },
   "outputs": [
    {
     "data": {
      "text/html": [
       "<div>\n",
       "<style scoped>\n",
       "    .dataframe tbody tr th:only-of-type {\n",
       "        vertical-align: middle;\n",
       "    }\n",
       "\n",
       "    .dataframe tbody tr th {\n",
       "        vertical-align: top;\n",
       "    }\n",
       "\n",
       "    .dataframe thead th {\n",
       "        text-align: right;\n",
       "    }\n",
       "</style>\n",
       "<table border=\"1\" class=\"dataframe\">\n",
       "  <thead>\n",
       "    <tr style=\"text-align: right;\">\n",
       "      <th></th>\n",
       "      <th>customer_id</th>\n",
       "      <th>customer_unique_id</th>\n",
       "      <th>customer_zip_code_prefix</th>\n",
       "      <th>customer_city</th>\n",
       "      <th>customer_state</th>\n",
       "      <th>order_id</th>\n",
       "      <th>order_status</th>\n",
       "      <th>order_purchase_timestamp</th>\n",
       "      <th>order_approved_at</th>\n",
       "      <th>order_delivered_carrier_date</th>\n",
       "      <th>order_delivered_customer_date</th>\n",
       "      <th>order_estimated_delivery_date</th>\n",
       "      <th>review_score</th>\n",
       "      <th>payment_type</th>\n",
       "      <th>order_price</th>\n",
       "    </tr>\n",
       "  </thead>\n",
       "  <tbody>\n",
       "    <tr>\n",
       "      <th>0</th>\n",
       "      <td>06b8999e2fba1a1fbc88172c00ba8bc7</td>\n",
       "      <td>861eff4711a542e4b93843c6dd7febb0</td>\n",
       "      <td>14409</td>\n",
       "      <td>franca</td>\n",
       "      <td>SP</td>\n",
       "      <td>00e7ee1b050b8499577073aeb2a297a1</td>\n",
       "      <td>delivered</td>\n",
       "      <td>2017-05-16 15:05:35</td>\n",
       "      <td>2017-05-16 15:22:12</td>\n",
       "      <td>2017-05-23 10:47:57</td>\n",
       "      <td>2017-05-25 10:35:35</td>\n",
       "      <td>2017-06-05 00:00:00</td>\n",
       "      <td>4.0</td>\n",
       "      <td>credit_card</td>\n",
       "      <td>146.87</td>\n",
       "    </tr>\n",
       "    <tr>\n",
       "      <th>1</th>\n",
       "      <td>18955e83d337fd6b2def6b18a428ac77</td>\n",
       "      <td>290c77bc529b7ac935b93aa66c333dc3</td>\n",
       "      <td>9790</td>\n",
       "      <td>sao bernardo do campo</td>\n",
       "      <td>SP</td>\n",
       "      <td>29150127e6685892b6eab3eec79f59c7</td>\n",
       "      <td>delivered</td>\n",
       "      <td>2018-01-12 20:48:24</td>\n",
       "      <td>2018-01-12 20:58:32</td>\n",
       "      <td>2018-01-15 17:14:59</td>\n",
       "      <td>2018-01-29 12:41:19</td>\n",
       "      <td>2018-02-06 00:00:00</td>\n",
       "      <td>5.0</td>\n",
       "      <td>credit_card</td>\n",
       "      <td>335.48</td>\n",
       "    </tr>\n",
       "    <tr>\n",
       "      <th>2</th>\n",
       "      <td>4e7b3e00288586ebd08712fdd0374a03</td>\n",
       "      <td>060e732b5b29e8181a18229c7b0b2b5e</td>\n",
       "      <td>1151</td>\n",
       "      <td>sao paulo</td>\n",
       "      <td>SP</td>\n",
       "      <td>b2059ed67ce144a36e2aa97d2c9e9ad2</td>\n",
       "      <td>delivered</td>\n",
       "      <td>2018-05-19 16:07:45</td>\n",
       "      <td>2018-05-20 16:19:10</td>\n",
       "      <td>2018-06-11 14:31:00</td>\n",
       "      <td>2018-06-14 17:58:51</td>\n",
       "      <td>2018-06-13 00:00:00</td>\n",
       "      <td>5.0</td>\n",
       "      <td>credit_card</td>\n",
       "      <td>157.73</td>\n",
       "    </tr>\n",
       "    <tr>\n",
       "      <th>3</th>\n",
       "      <td>b2b6027bc5c5109e529d4dc6358b12c3</td>\n",
       "      <td>259dac757896d24d7702b9acbbff3f3c</td>\n",
       "      <td>8775</td>\n",
       "      <td>mogi das cruzes</td>\n",
       "      <td>SP</td>\n",
       "      <td>951670f92359f4fe4a63112aa7306eba</td>\n",
       "      <td>delivered</td>\n",
       "      <td>2018-03-13 16:06:38</td>\n",
       "      <td>2018-03-13 17:29:19</td>\n",
       "      <td>2018-03-27 23:22:42</td>\n",
       "      <td>2018-03-28 16:04:25</td>\n",
       "      <td>2018-04-10 00:00:00</td>\n",
       "      <td>5.0</td>\n",
       "      <td>credit_card</td>\n",
       "      <td>173.30</td>\n",
       "    </tr>\n",
       "    <tr>\n",
       "      <th>4</th>\n",
       "      <td>4f2d8ab171c80ec8364f7c12e35b23ad</td>\n",
       "      <td>345ecd01c38d18a9036ed96c73b8d066</td>\n",
       "      <td>13056</td>\n",
       "      <td>campinas</td>\n",
       "      <td>SP</td>\n",
       "      <td>6b7d50bd145f6fc7f33cebabd7e49d0f</td>\n",
       "      <td>delivered</td>\n",
       "      <td>2018-07-29 09:51:30</td>\n",
       "      <td>2018-07-29 10:10:09</td>\n",
       "      <td>2018-07-30 15:16:00</td>\n",
       "      <td>2018-08-09 20:55:48</td>\n",
       "      <td>2018-08-15 00:00:00</td>\n",
       "      <td>5.0</td>\n",
       "      <td>credit_card</td>\n",
       "      <td>252.25</td>\n",
       "    </tr>\n",
       "  </tbody>\n",
       "</table>\n",
       "</div>"
      ],
      "text/plain": [
       "                        customer_id                customer_unique_id  \\\n",
       "0  06b8999e2fba1a1fbc88172c00ba8bc7  861eff4711a542e4b93843c6dd7febb0   \n",
       "1  18955e83d337fd6b2def6b18a428ac77  290c77bc529b7ac935b93aa66c333dc3   \n",
       "2  4e7b3e00288586ebd08712fdd0374a03  060e732b5b29e8181a18229c7b0b2b5e   \n",
       "3  b2b6027bc5c5109e529d4dc6358b12c3  259dac757896d24d7702b9acbbff3f3c   \n",
       "4  4f2d8ab171c80ec8364f7c12e35b23ad  345ecd01c38d18a9036ed96c73b8d066   \n",
       "\n",
       "   customer_zip_code_prefix          customer_city customer_state  \\\n",
       "0                     14409                 franca             SP   \n",
       "1                      9790  sao bernardo do campo             SP   \n",
       "2                      1151              sao paulo             SP   \n",
       "3                      8775        mogi das cruzes             SP   \n",
       "4                     13056               campinas             SP   \n",
       "\n",
       "                           order_id order_status order_purchase_timestamp  \\\n",
       "0  00e7ee1b050b8499577073aeb2a297a1    delivered      2017-05-16 15:05:35   \n",
       "1  29150127e6685892b6eab3eec79f59c7    delivered      2018-01-12 20:48:24   \n",
       "2  b2059ed67ce144a36e2aa97d2c9e9ad2    delivered      2018-05-19 16:07:45   \n",
       "3  951670f92359f4fe4a63112aa7306eba    delivered      2018-03-13 16:06:38   \n",
       "4  6b7d50bd145f6fc7f33cebabd7e49d0f    delivered      2018-07-29 09:51:30   \n",
       "\n",
       "     order_approved_at order_delivered_carrier_date  \\\n",
       "0  2017-05-16 15:22:12          2017-05-23 10:47:57   \n",
       "1  2018-01-12 20:58:32          2018-01-15 17:14:59   \n",
       "2  2018-05-20 16:19:10          2018-06-11 14:31:00   \n",
       "3  2018-03-13 17:29:19          2018-03-27 23:22:42   \n",
       "4  2018-07-29 10:10:09          2018-07-30 15:16:00   \n",
       "\n",
       "  order_delivered_customer_date order_estimated_delivery_date  review_score  \\\n",
       "0           2017-05-25 10:35:35           2017-06-05 00:00:00           4.0   \n",
       "1           2018-01-29 12:41:19           2018-02-06 00:00:00           5.0   \n",
       "2           2018-06-14 17:58:51           2018-06-13 00:00:00           5.0   \n",
       "3           2018-03-28 16:04:25           2018-04-10 00:00:00           5.0   \n",
       "4           2018-08-09 20:55:48           2018-08-15 00:00:00           5.0   \n",
       "\n",
       "  payment_type  order_price  \n",
       "0  credit_card       146.87  \n",
       "1  credit_card       335.48  \n",
       "2  credit_card       157.73  \n",
       "3  credit_card       173.30  \n",
       "4  credit_card       252.25  "
      ]
     },
     "execution_count": 8,
     "metadata": {},
     "output_type": "execute_result"
    }
   ],
   "source": [
    "# Group by unique\n",
    "order_payments_groupby = order_payments.groupby('order_id')['payment_type'].max().reset_index()\n",
    "#order_payments_groupby\n",
    "\n",
    "# Merge DataFrames based on the 'order_id' column. Plus, we keep NAN values for now.\n",
    "merge_4 = merge_3.merge(order_payments_groupby, on='order_id', how='outer')\n",
    "\n",
    "# Creation of the column order_price = price + freight_value\n",
    "merge_4['order_price'] = merge_4['price'] + merge_4['freight_value']\n",
    "# Remove columns 'price' and 'freight_value'\n",
    "merge_4.drop(['price', 'freight_value'], axis=1, inplace=True)\n",
    "\n",
    "merge_4.head()"
   ]
  },
  {
   "cell_type": "markdown",
   "metadata": {
    "id": "t4MIWwTh5K7T"
   },
   "source": [
    "Les tables suivantes ne seront pas utilisées :\n",
    "\n",
    "\n",
    "\n",
    "*   geolocation\n",
    "*   products\n",
    "*   sellers\n",
    "*   category_name"
   ]
  },
  {
   "cell_type": "markdown",
   "metadata": {
    "id": "dOT22WPtrhds"
   },
   "source": [
    "# EDA Exploratory Data Analysis"
   ]
  },
  {
   "cell_type": "markdown",
   "metadata": {
    "id": "LlYqeJlJsw0g"
   },
   "source": [
    "## Erreurs de type"
   ]
  },
  {
   "cell_type": "code",
   "execution_count": 9,
   "metadata": {
    "id": "LvPW3FVjrho9"
   },
   "outputs": [],
   "source": [
    "merged = merge_4.copy()"
   ]
  },
  {
   "cell_type": "code",
   "execution_count": 10,
   "metadata": {
    "colab": {
     "base_uri": "https://localhost:8080/"
    },
    "id": "odWo6Gw_rhtx",
    "outputId": "c53e8afe-6c23-42e1-976f-5df5afbbc664"
   },
   "outputs": [
    {
     "data": {
      "text/plain": [
       "customer_id                       object\n",
       "customer_unique_id                object\n",
       "customer_zip_code_prefix           int64\n",
       "customer_city                     object\n",
       "customer_state                    object\n",
       "order_id                          object\n",
       "order_status                      object\n",
       "order_purchase_timestamp          object\n",
       "order_approved_at                 object\n",
       "order_delivered_carrier_date      object\n",
       "order_delivered_customer_date     object\n",
       "order_estimated_delivery_date     object\n",
       "review_score                     float64\n",
       "payment_type                      object\n",
       "order_price                      float64\n",
       "dtype: object"
      ]
     },
     "execution_count": 10,
     "metadata": {},
     "output_type": "execute_result"
    }
   ],
   "source": [
    "merged.dtypes"
   ]
  },
  {
   "cell_type": "markdown",
   "metadata": {
    "id": "AjGW4AiTtsbA"
   },
   "source": [
    "Nous disposons de colonnes (date+heure) de type object. Nous allons les convertir en datetime car nous en aurons besoin par la suite pour compter le nombre de jours depuis la dernière commande pour chaque clients."
   ]
  },
  {
   "cell_type": "code",
   "execution_count": 11,
   "metadata": {
    "id": "qg2qdqs2wqRc"
   },
   "outputs": [],
   "source": [
    "# Convert object columns to datetime\n",
    "merged['order_purchase_timestamp'] = pd.to_datetime(merged['order_purchase_timestamp'])\n",
    "merged['order_approved_at'] = pd.to_datetime(merged['order_approved_at'])\n",
    "merged['order_delivered_carrier_date'] = pd.to_datetime(merged['order_delivered_carrier_date'])\n",
    "merged['order_delivered_customer_date'] = pd.to_datetime(merged['order_delivered_customer_date'])\n",
    "merged['order_estimated_delivery_date'] = pd.to_datetime(merged['order_estimated_delivery_date'])"
   ]
  },
  {
   "cell_type": "markdown",
   "metadata": {
    "id": "Ab0O7EoDtv0I"
   },
   "source": [
    "## Valeurs manquantes"
   ]
  },
  {
   "cell_type": "code",
   "execution_count": 12,
   "metadata": {
    "colab": {
     "base_uri": "https://localhost:8080/"
    },
    "id": "v7lmy8R9rhwH",
    "outputId": "ace64876-8cf7-4493-d67f-0647c24d0729"
   },
   "outputs": [
    {
     "data": {
      "text/plain": [
       "order_approved_at                 160\n",
       "order_delivered_carrier_date     1783\n",
       "order_delivered_customer_date    2965\n",
       "review_score                      768\n",
       "payment_type                        1\n",
       "order_price                       775\n",
       "dtype: int64"
      ]
     },
     "execution_count": 12,
     "metadata": {},
     "output_type": "execute_result"
    }
   ],
   "source": [
    "# Print only variables with NAN values\n",
    "nb_na = merged.isnull().sum()\n",
    "nb_na[nb_na>0]"
   ]
  },
  {
   "cell_type": "markdown",
   "metadata": {
    "id": "avBhinEVvaqN"
   },
   "source": [
    "Les variables 'order_approved_at', 'order_delivered_carrier_date', et 'order_delivered_customer_date' n'ont pas d'intérêts dans notre cas d'étude. Ainsi, nous ne traiterons pas les valeurs manquantes associées.\n",
    "\n",
    "Pour les 3 autres variables, nous avons au max 768 NAN sur un jeu de données de quasiment 100 000 lignes. Ce qui est négligéable, nous allons donc supprimer ces lignes."
   ]
  },
  {
   "cell_type": "code",
   "execution_count": 13,
   "metadata": {
    "colab": {
     "base_uri": "https://localhost:8080/"
    },
    "id": "SisU5YJBJ2Dk",
    "outputId": "25f91586-c709-4845-c695-22e7988838ab"
   },
   "outputs": [
    {
     "data": {
      "text/plain": [
       "(97916, 15)"
      ]
     },
     "execution_count": 13,
     "metadata": {},
     "output_type": "execute_result"
    }
   ],
   "source": [
    "# Drop rows with NaN values in column multiple columns\n",
    "merged = merged.dropna(subset=['order_price', 'review_score', 'payment_type'])\n",
    "merged.shape"
   ]
  },
  {
   "cell_type": "markdown",
   "metadata": {
    "id": "xq7w2I1zMJud"
   },
   "source": [
    "## Doublons"
   ]
  },
  {
   "cell_type": "code",
   "execution_count": 14,
   "metadata": {
    "colab": {
     "base_uri": "https://localhost:8080/",
     "height": 113
    },
    "id": "8_tyo_r0rh0y",
    "outputId": "333e0d30-39b0-4b9c-fd0d-53908de3abcc"
   },
   "outputs": [
    {
     "data": {
      "text/html": [
       "<div>\n",
       "<style scoped>\n",
       "    .dataframe tbody tr th:only-of-type {\n",
       "        vertical-align: middle;\n",
       "    }\n",
       "\n",
       "    .dataframe tbody tr th {\n",
       "        vertical-align: top;\n",
       "    }\n",
       "\n",
       "    .dataframe thead th {\n",
       "        text-align: right;\n",
       "    }\n",
       "</style>\n",
       "<table border=\"1\" class=\"dataframe\">\n",
       "  <thead>\n",
       "    <tr style=\"text-align: right;\">\n",
       "      <th></th>\n",
       "      <th>customer_id</th>\n",
       "      <th>customer_unique_id</th>\n",
       "      <th>customer_zip_code_prefix</th>\n",
       "      <th>customer_city</th>\n",
       "      <th>customer_state</th>\n",
       "      <th>order_id</th>\n",
       "      <th>order_status</th>\n",
       "      <th>order_purchase_timestamp</th>\n",
       "      <th>order_approved_at</th>\n",
       "      <th>order_delivered_carrier_date</th>\n",
       "      <th>order_delivered_customer_date</th>\n",
       "      <th>order_estimated_delivery_date</th>\n",
       "      <th>review_score</th>\n",
       "      <th>payment_type</th>\n",
       "      <th>order_price</th>\n",
       "    </tr>\n",
       "  </thead>\n",
       "  <tbody>\n",
       "  </tbody>\n",
       "</table>\n",
       "</div>"
      ],
      "text/plain": [
       "Empty DataFrame\n",
       "Columns: [customer_id, customer_unique_id, customer_zip_code_prefix, customer_city, customer_state, order_id, order_status, order_purchase_timestamp, order_approved_at, order_delivered_carrier_date, order_delivered_customer_date, order_estimated_delivery_date, review_score, payment_type, order_price]\n",
       "Index: []"
      ]
     },
     "execution_count": 14,
     "metadata": {},
     "output_type": "execute_result"
    }
   ],
   "source": [
    "merged.loc[merged[['order_id']].duplicated(keep=False),:]"
   ]
  },
  {
   "cell_type": "markdown",
   "metadata": {
    "id": "ah1UM4i7M9Yg"
   },
   "source": [
    "Pas de doublons sur notre jeu de données"
   ]
  },
  {
   "cell_type": "markdown",
   "metadata": {
    "id": "OYQgFUuwOJ9u"
   },
   "source": [
    "## Détection d'outliers"
   ]
  },
  {
   "cell_type": "code",
   "execution_count": 15,
   "metadata": {
    "colab": {
     "base_uri": "https://localhost:8080/",
     "height": 300
    },
    "id": "fwoo0RqRt0BT",
    "outputId": "74ab8255-818d-44e2-8bba-a8a3c836c5a5"
   },
   "outputs": [
    {
     "data": {
      "text/html": [
       "<div>\n",
       "<style scoped>\n",
       "    .dataframe tbody tr th:only-of-type {\n",
       "        vertical-align: middle;\n",
       "    }\n",
       "\n",
       "    .dataframe tbody tr th {\n",
       "        vertical-align: top;\n",
       "    }\n",
       "\n",
       "    .dataframe thead th {\n",
       "        text-align: right;\n",
       "    }\n",
       "</style>\n",
       "<table border=\"1\" class=\"dataframe\">\n",
       "  <thead>\n",
       "    <tr style=\"text-align: right;\">\n",
       "      <th></th>\n",
       "      <th>customer_zip_code_prefix</th>\n",
       "      <th>review_score</th>\n",
       "      <th>order_price</th>\n",
       "    </tr>\n",
       "  </thead>\n",
       "  <tbody>\n",
       "    <tr>\n",
       "      <th>count</th>\n",
       "      <td>97916.000000</td>\n",
       "      <td>97916.000000</td>\n",
       "      <td>97916.000000</td>\n",
       "    </tr>\n",
       "    <tr>\n",
       "      <th>mean</th>\n",
       "      <td>35174.983772</td>\n",
       "      <td>4.105087</td>\n",
       "      <td>160.338475</td>\n",
       "    </tr>\n",
       "    <tr>\n",
       "      <th>std</th>\n",
       "      <td>29822.392569</td>\n",
       "      <td>1.330286</td>\n",
       "      <td>219.269382</td>\n",
       "    </tr>\n",
       "    <tr>\n",
       "      <th>min</th>\n",
       "      <td>1003.000000</td>\n",
       "      <td>1.000000</td>\n",
       "      <td>9.590000</td>\n",
       "    </tr>\n",
       "    <tr>\n",
       "      <th>25%</th>\n",
       "      <td>11353.750000</td>\n",
       "      <td>4.000000</td>\n",
       "      <td>61.867500</td>\n",
       "    </tr>\n",
       "    <tr>\n",
       "      <th>50%</th>\n",
       "      <td>24422.000000</td>\n",
       "      <td>5.000000</td>\n",
       "      <td>105.280000</td>\n",
       "    </tr>\n",
       "    <tr>\n",
       "      <th>75%</th>\n",
       "      <td>59032.750000</td>\n",
       "      <td>5.000000</td>\n",
       "      <td>176.740000</td>\n",
       "    </tr>\n",
       "    <tr>\n",
       "      <th>max</th>\n",
       "      <td>99990.000000</td>\n",
       "      <td>5.000000</td>\n",
       "      <td>13664.080000</td>\n",
       "    </tr>\n",
       "  </tbody>\n",
       "</table>\n",
       "</div>"
      ],
      "text/plain": [
       "       customer_zip_code_prefix  review_score   order_price\n",
       "count              97916.000000  97916.000000  97916.000000\n",
       "mean               35174.983772      4.105087    160.338475\n",
       "std                29822.392569      1.330286    219.269382\n",
       "min                 1003.000000      1.000000      9.590000\n",
       "25%                11353.750000      4.000000     61.867500\n",
       "50%                24422.000000      5.000000    105.280000\n",
       "75%                59032.750000      5.000000    176.740000\n",
       "max                99990.000000      5.000000  13664.080000"
      ]
     },
     "execution_count": 15,
     "metadata": {},
     "output_type": "execute_result"
    }
   ],
   "source": [
    "merged.describe()"
   ]
  },
  {
   "cell_type": "markdown",
   "metadata": {
    "id": "23d2FlGTOyRD"
   },
   "source": [
    "Pour la colonne 'order_price' on remarque que la commande max est extrêmement élevée (13664.08 euros) alors que le panier moyen est de 160.58 euros"
   ]
  },
  {
   "cell_type": "markdown",
   "metadata": {
    "id": "vo47muyMU5zZ"
   },
   "source": [
    "### Visualisation des plus grosses commandes"
   ]
  },
  {
   "cell_type": "code",
   "execution_count": 16,
   "metadata": {
    "colab": {
     "base_uri": "https://localhost:8080/",
     "height": 564
    },
    "id": "E1MlfE0MPgfj",
    "outputId": "9ffe2f51-0bc0-4c5c-b6fc-f832d41c37a5"
   },
   "outputs": [
    {
     "data": {
      "image/png": "[encoded data removed]",
      "text/plain": [
       "<Figure size 1200x600 with 1 Axes>"
      ]
     },
     "metadata": {},
     "output_type": "display_data"
    }
   ],
   "source": [
    "# Specify the number of values to consider\n",
    "nb_order = 10\n",
    "\n",
    "# Select the top nb_order largest values from the 'order_price' column then sort the values in ascending order\n",
    "top_nb_order = merged.nlargest(nb_order, 'order_price').sort_values('order_price', ascending=True)\n",
    "\n",
    "# Set the figure size\n",
    "fig, ax = plt.subplots(figsize=(12, 6))\n",
    "\n",
    "# Create the horizontal bar chart\n",
    "ax.barh(top_nb_order['customer_unique_id'], top_nb_order['order_price'])\n",
    "\n",
    "# Add titles and axis labels\n",
    "ax.set_title('Top ' + str(nb_order) + ' orders by customers')\n",
    "ax.set_xlabel('Monetary Value (euros)')\n",
    "ax.set_ylabel('Customer')\n",
    "\n",
    "# Add vertical grid lines\n",
    "ax.xaxis.grid(True)\n",
    "\n",
    "# Display the chart\n",
    "plt.show()"
   ]
  },
  {
   "cell_type": "markdown",
   "metadata": {
    "id": "39QaSwtXZa41"
   },
   "source": [
    "Finalement, on remarque que de nombreuses commandes à plusieurs milliers d'euros on t eu lieu. Ainsi, la plus grosse commande ne sera pas considérée comme une valeur éronnée et donc conservée.\n",
    "\n",
    "Voici plus de détails sur cette commande en particulier"
   ]
  },
  {
   "cell_type": "code",
   "execution_count": 17,
   "metadata": {
    "colab": {
     "base_uri": "https://localhost:8080/",
     "height": 145
    },
    "id": "2zu8A09CbpOs",
    "outputId": "1d77d9c9-4ce3-466d-8189-ab0e91dde056"
   },
   "outputs": [
    {
     "data": {
      "text/html": [
       "<div>\n",
       "<style scoped>\n",
       "    .dataframe tbody tr th:only-of-type {\n",
       "        vertical-align: middle;\n",
       "    }\n",
       "\n",
       "    .dataframe tbody tr th {\n",
       "        vertical-align: top;\n",
       "    }\n",
       "\n",
       "    .dataframe thead th {\n",
       "        text-align: right;\n",
       "    }\n",
       "</style>\n",
       "<table border=\"1\" class=\"dataframe\">\n",
       "  <thead>\n",
       "    <tr style=\"text-align: right;\">\n",
       "      <th></th>\n",
       "      <th>customer_id</th>\n",
       "      <th>customer_unique_id</th>\n",
       "      <th>customer_zip_code_prefix</th>\n",
       "      <th>customer_city</th>\n",
       "      <th>customer_state</th>\n",
       "      <th>order_id</th>\n",
       "      <th>order_status</th>\n",
       "      <th>order_purchase_timestamp</th>\n",
       "      <th>order_approved_at</th>\n",
       "      <th>order_delivered_carrier_date</th>\n",
       "      <th>order_delivered_customer_date</th>\n",
       "      <th>order_estimated_delivery_date</th>\n",
       "      <th>review_score</th>\n",
       "      <th>payment_type</th>\n",
       "      <th>order_price</th>\n",
       "    </tr>\n",
       "  </thead>\n",
       "  <tbody>\n",
       "    <tr>\n",
       "      <th>6195</th>\n",
       "      <td>1617b1357756262bfa56ab541c47bc16</td>\n",
       "      <td>0a0a92112bd4c708ca5fde585afaa872</td>\n",
       "      <td>20080</td>\n",
       "      <td>rio de janeiro</td>\n",
       "      <td>RJ</td>\n",
       "      <td>03caa2c082116e1d31e67e9ae3700499</td>\n",
       "      <td>delivered</td>\n",
       "      <td>2017-09-29 15:24:52</td>\n",
       "      <td>2017-10-02 15:28:20</td>\n",
       "      <td>2017-10-10 15:43:17</td>\n",
       "      <td>2017-10-17 18:22:29</td>\n",
       "      <td>2017-10-23</td>\n",
       "      <td>1.0</td>\n",
       "      <td>credit_card</td>\n",
       "      <td>13664.08</td>\n",
       "    </tr>\n",
       "  </tbody>\n",
       "</table>\n",
       "</div>"
      ],
      "text/plain": [
       "                           customer_id                customer_unique_id  \\\n",
       "6195  1617b1357756262bfa56ab541c47bc16  0a0a92112bd4c708ca5fde585afaa872   \n",
       "\n",
       "      customer_zip_code_prefix   customer_city customer_state  \\\n",
       "6195                     20080  rio de janeiro             RJ   \n",
       "\n",
       "                              order_id order_status order_purchase_timestamp  \\\n",
       "6195  03caa2c082116e1d31e67e9ae3700499    delivered      2017-09-29 15:24:52   \n",
       "\n",
       "       order_approved_at order_delivered_carrier_date  \\\n",
       "6195 2017-10-02 15:28:20          2017-10-10 15:43:17   \n",
       "\n",
       "     order_delivered_customer_date order_estimated_delivery_date  \\\n",
       "6195           2017-10-17 18:22:29                    2017-10-23   \n",
       "\n",
       "      review_score payment_type  order_price  \n",
       "6195           1.0  credit_card     13664.08  "
      ]
     },
     "execution_count": 17,
     "metadata": {},
     "output_type": "execute_result"
    }
   ],
   "source": [
    "merged[merged['customer_unique_id'] == '0a0a92112bd4c708ca5fde585afaa872']"
   ]
  },
  {
   "cell_type": "markdown",
   "metadata": {
    "id": "qVMvDHeVcSAt"
   },
   "source": [
    "Très mauvais point pour cette commande car le client a mis la note la plus basse 1 (très insatisfait). On constate qu'entre la date de la commande et la date de reception des produits par le client, il s'est écoulé quasiment 20 jours. Le délai de livraison était trop élevé. Ce client ne recommandera jamais."
   ]
  },
  {
   "cell_type": "code",
   "execution_count": 18,
   "metadata": {
    "colab": {
     "base_uri": "https://localhost:8080/",
     "height": 300
    },
    "id": "CQlCpMsMt0De",
    "outputId": "0d180eaa-74cc-42f7-f9f1-4f1a88310a4c"
   },
   "outputs": [
    {
     "data": {
      "text/html": [
       "<div>\n",
       "<style scoped>\n",
       "    .dataframe tbody tr th:only-of-type {\n",
       "        vertical-align: middle;\n",
       "    }\n",
       "\n",
       "    .dataframe tbody tr th {\n",
       "        vertical-align: top;\n",
       "    }\n",
       "\n",
       "    .dataframe thead th {\n",
       "        text-align: right;\n",
       "    }\n",
       "</style>\n",
       "<table border=\"1\" class=\"dataframe\">\n",
       "  <thead>\n",
       "    <tr style=\"text-align: right;\">\n",
       "      <th></th>\n",
       "      <th>order_id</th>\n",
       "      <th>order_item_id</th>\n",
       "      <th>product_id</th>\n",
       "      <th>seller_id</th>\n",
       "      <th>shipping_limit_date</th>\n",
       "      <th>price</th>\n",
       "      <th>freight_value</th>\n",
       "    </tr>\n",
       "  </thead>\n",
       "  <tbody>\n",
       "    <tr>\n",
       "      <th>1647</th>\n",
       "      <td>03caa2c082116e1d31e67e9ae3700499</td>\n",
       "      <td>1</td>\n",
       "      <td>5769ef0a239114ac3a854af00df129e4</td>\n",
       "      <td>b37c4c02bda3161a7546a4e6d222d5b2</td>\n",
       "      <td>2017-10-06 15:28:20</td>\n",
       "      <td>1680.0</td>\n",
       "      <td>28.01</td>\n",
       "    </tr>\n",
       "    <tr>\n",
       "      <th>1648</th>\n",
       "      <td>03caa2c082116e1d31e67e9ae3700499</td>\n",
       "      <td>2</td>\n",
       "      <td>5769ef0a239114ac3a854af00df129e4</td>\n",
       "      <td>b37c4c02bda3161a7546a4e6d222d5b2</td>\n",
       "      <td>2017-10-06 15:28:20</td>\n",
       "      <td>1680.0</td>\n",
       "      <td>28.01</td>\n",
       "    </tr>\n",
       "    <tr>\n",
       "      <th>1649</th>\n",
       "      <td>03caa2c082116e1d31e67e9ae3700499</td>\n",
       "      <td>3</td>\n",
       "      <td>5769ef0a239114ac3a854af00df129e4</td>\n",
       "      <td>b37c4c02bda3161a7546a4e6d222d5b2</td>\n",
       "      <td>2017-10-06 15:28:20</td>\n",
       "      <td>1680.0</td>\n",
       "      <td>28.01</td>\n",
       "    </tr>\n",
       "    <tr>\n",
       "      <th>1650</th>\n",
       "      <td>03caa2c082116e1d31e67e9ae3700499</td>\n",
       "      <td>4</td>\n",
       "      <td>5769ef0a239114ac3a854af00df129e4</td>\n",
       "      <td>b37c4c02bda3161a7546a4e6d222d5b2</td>\n",
       "      <td>2017-10-06 15:28:20</td>\n",
       "      <td>1680.0</td>\n",
       "      <td>28.01</td>\n",
       "    </tr>\n",
       "    <tr>\n",
       "      <th>1651</th>\n",
       "      <td>03caa2c082116e1d31e67e9ae3700499</td>\n",
       "      <td>5</td>\n",
       "      <td>5769ef0a239114ac3a854af00df129e4</td>\n",
       "      <td>b37c4c02bda3161a7546a4e6d222d5b2</td>\n",
       "      <td>2017-10-06 15:28:20</td>\n",
       "      <td>1680.0</td>\n",
       "      <td>28.01</td>\n",
       "    </tr>\n",
       "    <tr>\n",
       "      <th>1652</th>\n",
       "      <td>03caa2c082116e1d31e67e9ae3700499</td>\n",
       "      <td>6</td>\n",
       "      <td>5769ef0a239114ac3a854af00df129e4</td>\n",
       "      <td>b37c4c02bda3161a7546a4e6d222d5b2</td>\n",
       "      <td>2017-10-06 15:28:20</td>\n",
       "      <td>1680.0</td>\n",
       "      <td>28.01</td>\n",
       "    </tr>\n",
       "    <tr>\n",
       "      <th>1653</th>\n",
       "      <td>03caa2c082116e1d31e67e9ae3700499</td>\n",
       "      <td>7</td>\n",
       "      <td>5769ef0a239114ac3a854af00df129e4</td>\n",
       "      <td>b37c4c02bda3161a7546a4e6d222d5b2</td>\n",
       "      <td>2017-10-06 15:28:20</td>\n",
       "      <td>1680.0</td>\n",
       "      <td>28.01</td>\n",
       "    </tr>\n",
       "    <tr>\n",
       "      <th>1654</th>\n",
       "      <td>03caa2c082116e1d31e67e9ae3700499</td>\n",
       "      <td>8</td>\n",
       "      <td>5769ef0a239114ac3a854af00df129e4</td>\n",
       "      <td>b37c4c02bda3161a7546a4e6d222d5b2</td>\n",
       "      <td>2017-10-06 15:28:20</td>\n",
       "      <td>1680.0</td>\n",
       "      <td>28.01</td>\n",
       "    </tr>\n",
       "  </tbody>\n",
       "</table>\n",
       "</div>"
      ],
      "text/plain": [
       "                              order_id  order_item_id  \\\n",
       "1647  03caa2c082116e1d31e67e9ae3700499              1   \n",
       "1648  03caa2c082116e1d31e67e9ae3700499              2   \n",
       "1649  03caa2c082116e1d31e67e9ae3700499              3   \n",
       "1650  03caa2c082116e1d31e67e9ae3700499              4   \n",
       "1651  03caa2c082116e1d31e67e9ae3700499              5   \n",
       "1652  03caa2c082116e1d31e67e9ae3700499              6   \n",
       "1653  03caa2c082116e1d31e67e9ae3700499              7   \n",
       "1654  03caa2c082116e1d31e67e9ae3700499              8   \n",
       "\n",
       "                            product_id                         seller_id  \\\n",
       "1647  5769ef0a239114ac3a854af00df129e4  b37c4c02bda3161a7546a4e6d222d5b2   \n",
       "1648  5769ef0a239114ac3a854af00df129e4  b37c4c02bda3161a7546a4e6d222d5b2   \n",
       "1649  5769ef0a239114ac3a854af00df129e4  b37c4c02bda3161a7546a4e6d222d5b2   \n",
       "1650  5769ef0a239114ac3a854af00df129e4  b37c4c02bda3161a7546a4e6d222d5b2   \n",
       "1651  5769ef0a239114ac3a854af00df129e4  b37c4c02bda3161a7546a4e6d222d5b2   \n",
       "1652  5769ef0a239114ac3a854af00df129e4  b37c4c02bda3161a7546a4e6d222d5b2   \n",
       "1653  5769ef0a239114ac3a854af00df129e4  b37c4c02bda3161a7546a4e6d222d5b2   \n",
       "1654  5769ef0a239114ac3a854af00df129e4  b37c4c02bda3161a7546a4e6d222d5b2   \n",
       "\n",
       "      shipping_limit_date   price  freight_value  \n",
       "1647  2017-10-06 15:28:20  1680.0          28.01  \n",
       "1648  2017-10-06 15:28:20  1680.0          28.01  \n",
       "1649  2017-10-06 15:28:20  1680.0          28.01  \n",
       "1650  2017-10-06 15:28:20  1680.0          28.01  \n",
       "1651  2017-10-06 15:28:20  1680.0          28.01  \n",
       "1652  2017-10-06 15:28:20  1680.0          28.01  \n",
       "1653  2017-10-06 15:28:20  1680.0          28.01  \n",
       "1654  2017-10-06 15:28:20  1680.0          28.01  "
      ]
     },
     "execution_count": 18,
     "metadata": {},
     "output_type": "execute_result"
    }
   ],
   "source": [
    "order_items[order_items['order_id'] == '03caa2c082116e1d31e67e9ae3700499']"
   ]
  },
  {
   "cell_type": "code",
   "execution_count": 19,
   "metadata": {
    "colab": {
     "base_uri": "https://localhost:8080/",
     "height": 81
    },
    "id": "rXQQOKCDt0GA",
    "outputId": "7c7981ad-59f7-45cc-9e94-07dbf6de960c"
   },
   "outputs": [
    {
     "data": {
      "text/html": [
       "<div>\n",
       "<style scoped>\n",
       "    .dataframe tbody tr th:only-of-type {\n",
       "        vertical-align: middle;\n",
       "    }\n",
       "\n",
       "    .dataframe tbody tr th {\n",
       "        vertical-align: top;\n",
       "    }\n",
       "\n",
       "    .dataframe thead th {\n",
       "        text-align: right;\n",
       "    }\n",
       "</style>\n",
       "<table border=\"1\" class=\"dataframe\">\n",
       "  <thead>\n",
       "    <tr style=\"text-align: right;\">\n",
       "      <th></th>\n",
       "      <th>product_id</th>\n",
       "      <th>product_category_name</th>\n",
       "      <th>product_name_lenght</th>\n",
       "      <th>product_description_lenght</th>\n",
       "      <th>product_photos_qty</th>\n",
       "      <th>product_weight_g</th>\n",
       "      <th>product_length_cm</th>\n",
       "      <th>product_height_cm</th>\n",
       "      <th>product_width_cm</th>\n",
       "    </tr>\n",
       "  </thead>\n",
       "  <tbody>\n",
       "    <tr>\n",
       "      <th>25620</th>\n",
       "      <td>5769ef0a239114ac3a854af00df129e4</td>\n",
       "      <td>telefonia_fixa</td>\n",
       "      <td>39.0</td>\n",
       "      <td>2493.0</td>\n",
       "      <td>3.0</td>\n",
       "      <td>750.0</td>\n",
       "      <td>16.0</td>\n",
       "      <td>16.0</td>\n",
       "      <td>16.0</td>\n",
       "    </tr>\n",
       "  </tbody>\n",
       "</table>\n",
       "</div>"
      ],
      "text/plain": [
       "                             product_id product_category_name  \\\n",
       "25620  5769ef0a239114ac3a854af00df129e4        telefonia_fixa   \n",
       "\n",
       "       product_name_lenght  product_description_lenght  product_photos_qty  \\\n",
       "25620                 39.0                      2493.0                 3.0   \n",
       "\n",
       "       product_weight_g  product_length_cm  product_height_cm  \\\n",
       "25620             750.0               16.0               16.0   \n",
       "\n",
       "       product_width_cm  \n",
       "25620              16.0  "
      ]
     },
     "execution_count": 19,
     "metadata": {},
     "output_type": "execute_result"
    }
   ],
   "source": [
    "products[products['product_id'] == '5769ef0a239114ac3a854af00df129e4']"
   ]
  },
  {
   "cell_type": "markdown",
   "metadata": {
    "id": "8XzG_rzjdF_i"
   },
   "source": [
    "Cette commande est composé de 8 téléphones hauts de gamme identiques."
   ]
  },
  {
   "cell_type": "markdown",
   "metadata": {
    "id": "XInMW9c6ddj8"
   },
   "source": [
    "## Analyses univariées"
   ]
  },
  {
   "cell_type": "markdown",
   "metadata": {
    "id": "9BcyTfjM9XyA"
   },
   "source": [
    "### Nombre de commandes par client"
   ]
  },
  {
   "cell_type": "code",
   "execution_count": 20,
   "metadata": {
    "colab": {
     "base_uri": "https://localhost:8080/",
     "height": 428
    },
    "id": "VYX57u0Q_OJU",
    "outputId": "7f3b3cf7-f668-4565-fb3b-e17a5140d367"
   },
   "outputs": [
    {
     "data": {
      "image/png": "[encoded data removed]",
      "text/plain": [
       "<Figure size 640x480 with 1 Axes>"
      ]
     },
     "metadata": {},
     "output_type": "display_data"
    }
   ],
   "source": [
    "# Perform groupby with count on column 'order_id' and sum on column 'order_price'\n",
    "orders_by_customer = merged.groupby('customer_unique_id').agg({'order_id': 'count', 'order_price': 'sum'}).reset_index().sort_values('order_id', ascending=False)\n",
    "\n",
    "nb_customers_by_order = orders_by_customer['order_id'].value_counts().to_frame().reset_index()\n",
    "\n",
    "## Create a dictionary to map old column names to new column names\n",
    "column_mapping = {'index': 'nb_orders',\n",
    "                  'order_id': 'nb_customers'}\n",
    "# Rename the columns\n",
    "nb_customers_by_order = nb_customers_by_order.rename(columns=column_mapping)\n",
    "\n",
    "# Group values of \"nb_orders\" greater than 1\n",
    "grouped_orders = nb_customers_by_order.loc[nb_customers_by_order['nb_orders'] > 1, 'nb_customers'].sum()\n",
    "# Create labels for the pie chart\n",
    "labels = ['More than 1 order', 'Only 1 order']\n",
    "# Create data for the pie chart\n",
    "sizes = [grouped_orders, nb_customers_by_order.loc[nb_customers_by_order['nb_orders'] <= 1, 'nb_customers'].sum()]\n",
    "\n",
    "# Create the pie chart\n",
    "plt.pie(sizes, labels=labels, autopct='%1.1f%%')\n",
    "plt.title('Nombre de commandes par client')\n",
    "\n",
    "# Display the pie chart\n",
    "plt.show()"
   ]
  },
  {
   "cell_type": "markdown",
   "metadata": {
    "id": "ZEiw6Ju6NykP"
   },
   "source": [
    "L'immense majorité des clients (97%) ne passe qu'une seule commande. La rotation des clients est très élevée, essayer de retenir ces clients volatiles peut être très intéréssant."
   ]
  },
  {
   "cell_type": "markdown",
   "metadata": {
    "id": "M5H2esHzNVz4"
   },
   "source": [
    "### Distribution des commandes par montant"
   ]
  },
  {
   "cell_type": "code",
   "execution_count": 21,
   "metadata": {
    "colab": {
     "base_uri": "https://localhost:8080/",
     "height": 564
    },
    "id": "QjV13V5BRxzp",
    "outputId": "ec04b212-76bc-479e-9eed-caff961d4116"
   },
   "outputs": [
    {
     "data": {
      "image/png": "[encoded data removed]",
      "text/plain": [
       "<Figure size 1200x600 with 1 Axes>"
      ]
     },
     "metadata": {},
     "output_type": "display_data"
    }
   ],
   "source": [
    "# Define the ranges\n",
    "ranges = [\n",
    "    (\"<50\", lambda x: x < 50),\n",
    "    (\"50-100\", lambda x: 50 <= x < 100),\n",
    "    (\"100-250\", lambda x: 100 <= x < 250),\n",
    "    (\"250-500\", lambda x: 250 <= x < 500),\n",
    "    (\"500-750\", lambda x: 500 <= x < 750),\n",
    "    (\"750-1000\", lambda x: 750 <= x < 1000),\n",
    "    (\">1000\", lambda x: x >= 1000)\n",
    "]\n",
    "\n",
    "# Categorize the values based on the ranges\n",
    "merged['price_range'] = pd.cut(merged['order_price'], bins=[0, 50, 100, 250, 500, 750, 1000, float('inf')],\n",
    "                               labels=[r[0] for r in ranges])\n",
    "\n",
    "# Group by the price range and count the occurrences\n",
    "price_counts = merged['price_range'].value_counts(sort=False).to_frame().reset_index()\n",
    "\n",
    "## Create a dictionary to map old column names to new column names\n",
    "column_mapping = {'index': 'Monetary_Value',\n",
    "                  'price_range': 'Frequency'}\n",
    "# Rename the columns\n",
    "price_counts = price_counts.rename(columns=column_mapping)\n",
    "\n",
    "# Set the figure size\n",
    "fig, ax = plt.subplots(figsize=(12, 6))\n",
    "# Create the horizontal bar chart\n",
    "ax.bar(price_counts['Monetary_Value'], price_counts['Frequency'])\n",
    "\n",
    "# Add titles and axis labels\n",
    "ax.set_title('Distribution des commandes par montant')\n",
    "ax.set_xlabel('Monetary_Value')\n",
    "ax.set_ylabel('Frequency')\n",
    "\n",
    "# Add horizontal grid lines\n",
    "ax.yaxis.grid(True)\n",
    "\n",
    "# Display the chart\n",
    "plt.show()\n"
   ]
  },
  {
   "cell_type": "markdown",
   "metadata": {
    "id": "XJlQVfACY0Zb"
   },
   "source": [
    "La majorité de nos commandes ont une valeur < 250 euros."
   ]
  },
  {
   "cell_type": "markdown",
   "metadata": {
    "id": "X2DNixM9eTJe"
   },
   "source": [
    "### Satisfaction des clients"
   ]
  },
  {
   "cell_type": "code",
   "execution_count": 22,
   "metadata": {
    "colab": {
     "base_uri": "https://localhost:8080/",
     "height": 394
    },
    "id": "0NWKTUNVfSIl",
    "outputId": "1f24477a-fe16-455a-ff90-9f185b0b0293"
   },
   "outputs": [
    {
     "data": {
      "text/html": [
       "<div>\n",
       "<style scoped>\n",
       "    .dataframe tbody tr th:only-of-type {\n",
       "        vertical-align: middle;\n",
       "    }\n",
       "\n",
       "    .dataframe tbody tr th {\n",
       "        vertical-align: top;\n",
       "    }\n",
       "\n",
       "    .dataframe thead th {\n",
       "        text-align: right;\n",
       "    }\n",
       "</style>\n",
       "<table border=\"1\" class=\"dataframe\">\n",
       "  <thead>\n",
       "    <tr style=\"text-align: right;\">\n",
       "      <th></th>\n",
       "      <th>review_score</th>\n",
       "      <th>n</th>\n",
       "      <th>f</th>\n",
       "      <th>F</th>\n",
       "    </tr>\n",
       "  </thead>\n",
       "  <tbody>\n",
       "    <tr>\n",
       "      <th>0</th>\n",
       "      <td>5.000000</td>\n",
       "      <td>56885</td>\n",
       "      <td>0.580957</td>\n",
       "      <td>0.580957</td>\n",
       "    </tr>\n",
       "    <tr>\n",
       "      <th>5</th>\n",
       "      <td>4.500000</td>\n",
       "      <td>54</td>\n",
       "      <td>0.000551</td>\n",
       "      <td>0.581509</td>\n",
       "    </tr>\n",
       "    <tr>\n",
       "      <th>9</th>\n",
       "      <td>4.333333</td>\n",
       "      <td>1</td>\n",
       "      <td>0.000010</td>\n",
       "      <td>0.581519</td>\n",
       "    </tr>\n",
       "    <tr>\n",
       "      <th>1</th>\n",
       "      <td>4.000000</td>\n",
       "      <td>18986</td>\n",
       "      <td>0.193901</td>\n",
       "      <td>0.775420</td>\n",
       "    </tr>\n",
       "    <tr>\n",
       "      <th>7</th>\n",
       "      <td>3.500000</td>\n",
       "      <td>25</td>\n",
       "      <td>0.000255</td>\n",
       "      <td>0.775675</td>\n",
       "    </tr>\n",
       "    <tr>\n",
       "      <th>10</th>\n",
       "      <td>3.333333</td>\n",
       "      <td>1</td>\n",
       "      <td>0.000010</td>\n",
       "      <td>0.775685</td>\n",
       "    </tr>\n",
       "    <tr>\n",
       "      <th>3</th>\n",
       "      <td>3.000000</td>\n",
       "      <td>8083</td>\n",
       "      <td>0.082550</td>\n",
       "      <td>0.858236</td>\n",
       "    </tr>\n",
       "    <tr>\n",
       "      <th>6</th>\n",
       "      <td>2.500000</td>\n",
       "      <td>33</td>\n",
       "      <td>0.000337</td>\n",
       "      <td>0.858573</td>\n",
       "    </tr>\n",
       "    <tr>\n",
       "      <th>4</th>\n",
       "      <td>2.000000</td>\n",
       "      <td>3063</td>\n",
       "      <td>0.031282</td>\n",
       "      <td>0.889855</td>\n",
       "    </tr>\n",
       "    <tr>\n",
       "      <th>8</th>\n",
       "      <td>1.500000</td>\n",
       "      <td>8</td>\n",
       "      <td>0.000082</td>\n",
       "      <td>0.889936</td>\n",
       "    </tr>\n",
       "    <tr>\n",
       "      <th>2</th>\n",
       "      <td>1.000000</td>\n",
       "      <td>10777</td>\n",
       "      <td>0.110064</td>\n",
       "      <td>1.000000</td>\n",
       "    </tr>\n",
       "  </tbody>\n",
       "</table>\n",
       "</div>"
      ],
      "text/plain": [
       "    review_score      n         f         F\n",
       "0       5.000000  56885  0.580957  0.580957\n",
       "5       4.500000     54  0.000551  0.581509\n",
       "9       4.333333      1  0.000010  0.581519\n",
       "1       4.000000  18986  0.193901  0.775420\n",
       "7       3.500000     25  0.000255  0.775675\n",
       "10      3.333333      1  0.000010  0.775685\n",
       "3       3.000000   8083  0.082550  0.858236\n",
       "6       2.500000     33  0.000337  0.858573\n",
       "4       2.000000   3063  0.031282  0.889855\n",
       "8       1.500000      8  0.000082  0.889936\n",
       "2       1.000000  10777  0.110064  1.000000"
      ]
     },
     "metadata": {},
     "output_type": "display_data"
    }
   ],
   "source": [
    "effectifs = merged[\"review_score\"].value_counts()\n",
    "modalites = effectifs.index # l'index de effectifs contient les modalités\n",
    "\n",
    "tab = pd.DataFrame(modalites, columns = [\"review_score\"]) # création du tableau à partir des modalités\n",
    "tab[\"n\"] = effectifs.values\n",
    "tab[\"f\"] = tab[\"n\"] / len(merged) # len(data) renvoie la taille de l'échantillon\n",
    "\n",
    "tab = tab.sort_values(\"review_score\", ascending=False) # tri des valeurs de la variable X (croissant)\n",
    "tab[\"F\"] = tab[\"f\"].cumsum() # cumsum calcule la somme cumulée\n",
    "\n",
    "display(tab)"
   ]
  },
  {
   "cell_type": "markdown",
   "metadata": {
    "id": "MnG1TUxsgwQ8"
   },
   "source": [
    "76 % des commandes ont une note supérieur ou égale à 4 étoiles, ce qui est plutôt satisfaisant.\n",
    "\n",
    "Cependant, on remarque qu'environ 11% des clients sont totalement insatisfaits de nos services (ces sont des clients qui ne repasseront jamais commande). Il pourrait être intéréssant de comprendre pourquoi."
   ]
  },
  {
   "cell_type": "markdown",
   "metadata": {
    "id": "w9_M9DQc7GzJ"
   },
   "source": [
    "### Méthode de paiement"
   ]
  },
  {
   "cell_type": "code",
   "execution_count": 23,
   "metadata": {
    "colab": {
     "base_uri": "https://localhost:8080/",
     "height": 564
    },
    "id": "WUVsLfmmNmJl",
    "outputId": "fcde331e-24b0-428a-e1ee-64a8129c9bbf"
   },
   "outputs": [
    {
     "data": {
      "image/png": "[encoded data removed]",
      "text/plain": [
       "<Figure size 1200x600 with 1 Axes>"
      ]
     },
     "metadata": {},
     "output_type": "display_data"
    }
   ],
   "source": [
    "payment_type = merged['payment_type'].value_counts().to_frame().reset_index()\n",
    "\n",
    "# Rename the column\n",
    "payment_type = payment_type.rename(columns={'index': 'payment_type',\n",
    "                                            'payment_type': 'nb_payment'})\n",
    "\n",
    "# Set the figure size\n",
    "fig, ax = plt.subplots(figsize=(12, 6))\n",
    "# Create the horizontal bar chart\n",
    "ax.bar(payment_type['payment_type'], payment_type['nb_payment'])\n",
    "\n",
    "# Add titles and axis labels\n",
    "ax.set_title('Type de paiement')\n",
    "ax.set_xlabel('payment_type')\n",
    "ax.set_ylabel('nb_payment')\n",
    "\n",
    "# Add horizontal grid lines\n",
    "ax.yaxis.grid(True)\n",
    "\n",
    "# Display the chart\n",
    "plt.show()"
   ]
  },
  {
   "cell_type": "markdown",
   "metadata": {
    "id": "u4kgEEKjbtYK"
   },
   "source": [
    "## Analyses bivariées"
   ]
  },
  {
   "cell_type": "markdown",
   "metadata": {
    "id": "nep2oirIb3fy"
   },
   "source": [
    "### Lien entre le temps de livraison et la satisfaction client"
   ]
  },
  {
   "cell_type": "code",
   "execution_count": 24,
   "metadata": {
    "colab": {
     "base_uri": "https://localhost:8080/",
     "height": 564
    },
    "id": "D3_1KdnOb_CV",
    "outputId": "4b96c1a8-dddf-4f55-f905-5560d465978c"
   },
   "outputs": [
    {
     "data": {
      "image/png": "[encoded data removed]",
      "text/plain": [
       "<Figure size 1200x600 with 1 Axes>"
      ]
     },
     "metadata": {},
     "output_type": "display_data"
    }
   ],
   "source": [
    "# Create variable deleivery duration between 'order_purchase_timestamp' and 'order_delivered_customer_date'\n",
    "merged['delivery_duration'] = (merged['order_delivered_customer_date'] - merged['order_purchase_timestamp']).dt.days\n",
    "# Only print review_score for int value\n",
    "filter_merged = merged[merged['review_score'].isin([1, 2, 3, 4, 5])]\n",
    "\n",
    "# Create the boxplot graph without outliers with figsize\n",
    "fig, ax = plt.subplots(figsize=(12, 6))\n",
    "sns.boxplot(data=filter_merged, x=\"review_score\", y=\"delivery_duration\", showfliers=False, ax=ax)\n",
    "# Add title\n",
    "plt.title(\"Boxplot of Delivery Duration by Review Score\")\n",
    "# Display the chart\n",
    "plt.show()"
   ]
  },
  {
   "cell_type": "markdown",
   "metadata": {
    "id": "tZqCMZ6WkTi-"
   },
   "source": [
    "Comme on s'y attendait, plus le temps de livraison est long plus les clients sont insatisfaits."
   ]
  },
  {
   "cell_type": "markdown",
   "metadata": {
    "id": "CGz_oIqzkfo8"
   },
   "source": [
    "# Sauvergarde du dataset merged"
   ]
  },
  {
   "cell_type": "code",
   "execution_count": 29,
   "metadata": {
    "id": "66GoM5fHktHN"
   },
   "outputs": [],
   "source": [
    "merged.to_csv('/home/hao/Desktop/repos/customer_segmentation/data/cleaned/merged_data.csv', index=False)"
   ]
  }
 ],
 "metadata": {
  "colab": {
   "provenance": []
  },
  "kernelspec": {
   "display_name": "Python 3 (ipykernel)",
   "language": "python",
   "name": "python3"
  },
  "language_info": {
   "codemirror_mode": {
    "name": "ipython",
    "version": 3
   },
   "file_extension": ".py",
   "mimetype": "text/x-python",
   "name": "python",
   "nbconvert_exporter": "python",
   "pygments_lexer": "ipython3",
   "version": "3.9.13"
  }
 },
 "nbformat": 4,
 "nbformat_minor": 1
}
